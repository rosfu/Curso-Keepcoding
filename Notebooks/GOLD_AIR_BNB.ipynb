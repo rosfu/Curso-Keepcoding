{
 "cells": [
  {
   "cell_type": "code",
   "execution_count": 1,
   "metadata": {},
   "outputs": [
    {
     "name": "stdout",
     "output_type": "stream",
     "text": [
      "Requirement already satisfied: pandasql in c:\\users\\varit\\anaconda3\\lib\\site-packages (0.7.3)\n",
      "Requirement already satisfied: sqlalchemy in c:\\users\\varit\\anaconda3\\lib\\site-packages (from pandasql) (1.3.18)\n",
      "Requirement already satisfied: numpy in c:\\users\\varit\\anaconda3\\lib\\site-packages (from pandasql) (1.18.5)\n",
      "Requirement already satisfied: pandas in c:\\users\\varit\\anaconda3\\lib\\site-packages (from pandasql) (1.0.5)\n",
      "Requirement already satisfied: pytz>=2017.2 in c:\\users\\varit\\anaconda3\\lib\\site-packages (from pandas->pandasql) (2020.1)\n",
      "Requirement already satisfied: python-dateutil>=2.6.1 in c:\\users\\varit\\anaconda3\\lib\\site-packages (from pandas->pandasql) (2.8.1)\n",
      "Requirement already satisfied: six>=1.5 in c:\\users\\varit\\anaconda3\\lib\\site-packages (from python-dateutil>=2.6.1->pandas->pandasql) (1.16.0)\n",
      "Note: you may need to restart the kernel to use updated packages.\n"
     ]
    }
   ],
   "source": [
    "pip install pandasql"
   ]
  },
  {
   "cell_type": "code",
   "execution_count": 2,
   "metadata": {},
   "outputs": [],
   "source": [
    "import matplotlib.pyplot as plt\n",
    "from pandasql import sqldf\n",
    "import pandas as pd\n",
    "import numpy as np\n",
    "import warnings\n",
    "warnings.filterwarnings('ignore')"
   ]
  },
  {
   "cell_type": "markdown",
   "metadata": {},
   "source": [
    "## 4. Visualización de las métricas, PBI\n",
    "A partir de los datos de Airbnb, obtén los KPIs que puedan ser de relevancia y contesta\n",
    "a través de un dashboard a una pregunta relevante que hagas sobre los datos.\n",
    "a. a. Se valorará el diseño final del dashboard.\n",
    "b. b. El uso de buenas prácticas.\n",
    "c. c. El cálculo de KPIs adecuados y el uso de campos calculados avanzados.\n",
    "d. d. El uso de vistas interactivas."
   ]
  },
  {
   "cell_type": "markdown",
   "metadata": {},
   "source": [
    "LECTURA DE LA CAPA SILVER"
   ]
  },
  {
   "cell_type": "code",
   "execution_count": 3,
   "metadata": {},
   "outputs": [],
   "source": [
    "df_select = pd.read_csv(\"C:/Users/varit/Desktop/DATAB/SILVER/Fact_Air_BNB.csv\", sep = ';')\n",
    "Dim_Geography = pd.read_csv(\"C:/Users/varit/Desktop/DATAB/SILVER/Dim_Geography.csv\", sep = ';')"
   ]
  },
  {
   "cell_type": "markdown",
   "metadata": {},
   "source": [
    "#### SE  CREA  UN  MODELO COMO HEMOS DESCRITO EN EL APARTADO 2B"
   ]
  },
  {
   "cell_type": "markdown",
   "metadata": {},
   "source": [
    "JOIN CON FACT PARA DEJAR EL ID GEOGRAPHY DE LA DIMENSION"
   ]
  },
  {
   "cell_type": "code",
   "execution_count": 4,
   "metadata": {},
   "outputs": [],
   "source": [
    "q=\"\"\"select \n",
    "a.ID, \n",
    "a.Description, \n",
    "a.Name, \n",
    "a.Space, \n",
    "b.ID_Geography, \n",
    "a.Bathrooms, \n",
    "a.Bedrooms, \n",
    "a.SquareFeet, \n",
    "a.Price, \n",
    "a.WeeklyPrice, \n",
    "a.MonthlyPrice, \n",
    "a.NumberofReviews, \n",
    "a.ReviewScoresRating, \n",
    "a.ReviewScoresAccuracy, \n",
    "a.ReviewScoresCleanliness, \n",
    "a.ReviewScoresCheckin, \n",
    "a.ReviewScoresCommunication, \n",
    "a.ReviewScoresLocation, \n",
    "a.ReviewScoresValue, \n",
    "a.CancellationPolicy,\n",
    "a.Geolocation\n",
    "from df_select a\n",
    "inner join Dim_Geography b on a.City=b.City and a.State=b.State and a.Country=b.Country\"\"\"\n",
    "pysqldf = lambda q: sqldf(q, globals())\n",
    "Fact_Air_BNB = pysqldf(q)"
   ]
  },
  {
   "cell_type": "code",
   "execution_count": 23,
   "metadata": {},
   "outputs": [],
   "source": [
    "Dim_Geography.to_csv('C:/Users/varit/Desktop/DATAB/SILVER/Dim_Geography.csv',mode='w+', sep=';', index=False)\n",
    "df_select.to_csv('C:/Users/varit/Desktop/DATAB/SILVER/Fact_Air_BNB.csv',mode='w+', sep=';', index=False)"
   ]
  }
 ],
 "metadata": {
  "kernelspec": {
   "display_name": "Python 3",
   "language": "python",
   "name": "python3"
  },
  "language_info": {
   "codemirror_mode": {
    "name": "ipython",
    "version": 3
   },
   "file_extension": ".py",
   "mimetype": "text/x-python",
   "name": "python",
   "nbconvert_exporter": "python",
   "pygments_lexer": "ipython3",
   "version": "3.8.3"
  }
 },
 "nbformat": 4,
 "nbformat_minor": 4
}
